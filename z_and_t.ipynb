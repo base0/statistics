{
  "nbformat": 4,
  "nbformat_minor": 0,
  "metadata": {
    "colab": {
      "name": "z and t.ipynb",
      "provenance": [],
      "collapsed_sections": []
    },
    "kernelspec": {
      "display_name": "Python 3",
      "name": "python3"
    }
  },
  "cells": [
    {
      "cell_type": "markdown",
      "metadata": {
        "id": "DH4AyVthWUQk"
      },
      "source": [
        "# Z"
      ]
    },
    {
      "cell_type": "code",
      "metadata": {
        "id": "ghNYiZ9cnczR"
      },
      "source": [
        "import numpy as np\n",
        "import matplotlib.pyplot as plt"
      ],
      "execution_count": 113,
      "outputs": []
    },
    {
      "cell_type": "code",
      "metadata": {
        "colab": {
          "base_uri": "https://localhost:8080/",
          "height": 585
        },
        "id": "gDXTjqvFWTjv",
        "outputId": "e904cd0e-f26f-4888-d130-a567d0770245"
      },
      "source": [
        "MEAN = 100\r\n",
        "SD = 15\r\n",
        "SIZE = 1000_000\r\n",
        "\r\n",
        "pop = np.random.normal(MEAN, SD, SIZE)\r\n",
        "plt.hist(pop, bins=30)"
      ],
      "execution_count": 114,
      "outputs": [
        {
          "output_type": "execute_result",
          "data": {
            "text/plain": [
              "(array([3.00000e+00, 1.20000e+01, 4.00000e+01, 1.55000e+02, 4.77000e+02,\n",
              "        1.43000e+03, 3.64900e+03, 8.76100e+03, 1.79930e+04, 3.35440e+04,\n",
              "        5.62230e+04, 8.25910e+04, 1.08976e+05, 1.28645e+05, 1.34160e+05,\n",
              "        1.26213e+05, 1.05712e+05, 7.88900e+04, 5.20470e+04, 3.08690e+04,\n",
              "        1.66440e+04, 7.85300e+03, 3.32200e+03, 1.23900e+03, 3.90000e+02,\n",
              "        1.17000e+02, 3.30000e+01, 9.00000e+00, 2.00000e+00, 1.00000e+00]),\n",
              " array([ 26.62269548,  31.70930344,  36.7959114 ,  41.88251935,\n",
              "         46.96912731,  52.05573527,  57.14234323,  62.22895118,\n",
              "         67.31555914,  72.4021671 ,  77.48877505,  82.57538301,\n",
              "         87.66199097,  92.74859893,  97.83520688, 102.92181484,\n",
              "        108.0084228 , 113.09503075, 118.18163871, 123.26824667,\n",
              "        128.35485463, 133.44146258, 138.52807054, 143.6146785 ,\n",
              "        148.70128645, 153.78789441, 158.87450237, 163.96111033,\n",
              "        169.04771828, 174.13432624, 179.2209342 ]),\n",
              " <a list of 30 Patch objects>)"
            ]
          },
          "metadata": {
            "tags": []
          },
          "execution_count": 114
        },
        {
          "output_type": "display_data",
          "data": {
            "image/png": "[encoded data removed]",
            "text/plain": [
              "<Figure size 432x288 with 1 Axes>"
            ]
          },
          "metadata": {
            "tags": [],
            "needs_background": "light"
          }
        }
      ]
    },
    {
      "cell_type": "markdown",
      "metadata": {
        "id": "9PUTjzqpWrxp"
      },
      "source": [
        "# 68-95-99.7 rule (empirical rule)"
      ]
    },
    {
      "cell_type": "code",
      "metadata": {
        "colab": {
          "base_uri": "https://localhost:8080/"
        },
        "id": "9_WWbPb0WTgu",
        "outputId": "852ccea7-a490-4576-e7d6-83651afcf1a2"
      },
      "source": [
        "one_sd = pop[(pop < MEAN+SD)&(pop > MEAN-SD)]\r\n",
        "one_sd"
      ],
      "execution_count": 115,
      "outputs": [
        {
          "output_type": "execute_result",
          "data": {
            "text/plain": [
              "array([ 93.49054532,  94.45489785,  87.61185454, ..., 103.4952481 ,\n",
              "       113.29184907, 110.91224422])"
            ]
          },
          "metadata": {
            "tags": []
          },
          "execution_count": 115
        }
      ]
    },
    {
      "cell_type": "code",
      "metadata": {
        "colab": {
          "base_uri": "https://localhost:8080/",
          "height": 686
        },
        "id": "5J_IxA-zZPMe",
        "outputId": "7dcd93a2-8cf7-4521-ea41-7abf9d7ff192"
      },
      "source": [
        "plt.hist(pop, range=[40,160], bins=80)\r\n",
        "plt.hist(one_sd, range=[40,160], bins=80)"
      ],
      "execution_count": 123,
      "outputs": [
        {
          "output_type": "execute_result",
          "data": {
            "text/plain": [
              "(array([    0.,     0.,     0.,     0.,     0.,     0.,     0.,     0.,\n",
              "            0.,     0.,     0.,     0.,     0.,     0.,     0.,     0.,\n",
              "            0.,     0.,     0.,     0.,     0.,     0.,     0.,     0.,\n",
              "            0.,     0.,     0.,     0.,     0.,     0., 25141., 28143.,\n",
              "        30072., 32055., 34313., 36328., 37482., 38844., 39442., 39754.,\n",
              "        39834., 39182., 38480., 37339., 36349., 34321., 32429., 30440.,\n",
              "        27638., 25660.,     0.,     0.,     0.,     0.,     0.,     0.,\n",
              "            0.,     0.,     0.,     0.,     0.,     0.,     0.,     0.,\n",
              "            0.,     0.,     0.,     0.,     0.,     0.,     0.,     0.,\n",
              "            0.,     0.,     0.,     0.,     0.,     0.,     0.,     0.]),\n",
              " array([ 40. ,  41.5,  43. ,  44.5,  46. ,  47.5,  49. ,  50.5,  52. ,\n",
              "         53.5,  55. ,  56.5,  58. ,  59.5,  61. ,  62.5,  64. ,  65.5,\n",
              "         67. ,  68.5,  70. ,  71.5,  73. ,  74.5,  76. ,  77.5,  79. ,\n",
              "         80.5,  82. ,  83.5,  85. ,  86.5,  88. ,  89.5,  91. ,  92.5,\n",
              "         94. ,  95.5,  97. ,  98.5, 100. , 101.5, 103. , 104.5, 106. ,\n",
              "        107.5, 109. , 110.5, 112. , 113.5, 115. , 116.5, 118. , 119.5,\n",
              "        121. , 122.5, 124. , 125.5, 127. , 128.5, 130. , 131.5, 133. ,\n",
              "        134.5, 136. , 137.5, 139. , 140.5, 142. , 143.5, 145. , 146.5,\n",
              "        148. , 149.5, 151. , 152.5, 154. , 155.5, 157. , 158.5, 160. ]),\n",
              " <a list of 80 Patch objects>)"
            ]
          },
          "metadata": {
            "tags": []
          },
          "execution_count": 123
        },
        {
          "output_type": "display_data",
          "data": {
            "image/png": "[encoded data removed]",
            "text/plain": [
              "<Figure size 432x288 with 1 Axes>"
            ]
          },
          "metadata": {
            "tags": [],
            "needs_background": "light"
          }
        }
      ]
    },
    {
      "cell_type": "code",
      "metadata": {
        "colab": {
          "base_uri": "https://localhost:8080/"
        },
        "id": "9Y3F_xMiXIzg",
        "outputId": "18370b6b-838c-46b1-bfe9-92ff3f56a37f"
      },
      "source": [
        "len(one_sd) / len(pop)"
      ],
      "execution_count": 94,
      "outputs": [
        {
          "output_type": "execute_result",
          "data": {
            "text/plain": [
              "0.682875"
            ]
          },
          "metadata": {
            "tags": []
          },
          "execution_count": 94
        }
      ]
    },
    {
      "cell_type": "code",
      "metadata": {
        "colab": {
          "base_uri": "https://localhost:8080/"
        },
        "id": "os6DcTEjXuC8",
        "outputId": "1112392f-c778-4db1-8476-c2b1e5169bff"
      },
      "source": [
        "two_sd = pop[(pop < MEAN+2*SD)&(pop > MEAN-2*SD)]\r\n",
        "len(two_sd) / len(pop)"
      ],
      "execution_count": 118,
      "outputs": [
        {
          "output_type": "execute_result",
          "data": {
            "text/plain": [
              "0.954337"
            ]
          },
          "metadata": {
            "tags": []
          },
          "execution_count": 118
        }
      ]
    },
    {
      "cell_type": "code",
      "metadata": {
        "colab": {
          "base_uri": "https://localhost:8080/",
          "height": 686
        },
        "id": "XWdunHIkaK4C",
        "outputId": "e5afea2c-ed1d-4575-f40d-9261e797fc30"
      },
      "source": [
        "plt.hist(pop, range=[40,160], bins=80)\r\n",
        "plt.hist(two_sd, range=[40,160], bins=80)"
      ],
      "execution_count": 121,
      "outputs": [
        {
          "output_type": "execute_result",
          "data": {
            "text/plain": [
              "(array([    0.,     0.,     0.,     0.,     0.,     0.,     0.,     0.,\n",
              "            0.,     0.,     0.,     0.,     0.,     0.,     0.,     0.,\n",
              "            0.,     0.,     0.,     0.,  5801.,  7058.,  8733., 10130.,\n",
              "        11803., 14143., 16020., 18179., 20854., 22804., 25141., 28143.,\n",
              "        30072., 32055., 34313., 36328., 37482., 38844., 39442., 39754.,\n",
              "        39834., 39182., 38480., 37339., 36349., 34321., 32429., 30440.,\n",
              "        27638., 25660., 22901., 20776., 18344., 15833., 13947., 11996.,\n",
              "        10115.,  8493.,  7229.,  5932.,     0.,     0.,     0.,     0.,\n",
              "            0.,     0.,     0.,     0.,     0.,     0.,     0.,     0.,\n",
              "            0.,     0.,     0.,     0.,     0.,     0.,     0.,     0.]),\n",
              " array([ 40. ,  41.5,  43. ,  44.5,  46. ,  47.5,  49. ,  50.5,  52. ,\n",
              "         53.5,  55. ,  56.5,  58. ,  59.5,  61. ,  62.5,  64. ,  65.5,\n",
              "         67. ,  68.5,  70. ,  71.5,  73. ,  74.5,  76. ,  77.5,  79. ,\n",
              "         80.5,  82. ,  83.5,  85. ,  86.5,  88. ,  89.5,  91. ,  92.5,\n",
              "         94. ,  95.5,  97. ,  98.5, 100. , 101.5, 103. , 104.5, 106. ,\n",
              "        107.5, 109. , 110.5, 112. , 113.5, 115. , 116.5, 118. , 119.5,\n",
              "        121. , 122.5, 124. , 125.5, 127. , 128.5, 130. , 131.5, 133. ,\n",
              "        134.5, 136. , 137.5, 139. , 140.5, 142. , 143.5, 145. , 146.5,\n",
              "        148. , 149.5, 151. , 152.5, 154. , 155.5, 157. , 158.5, 160. ]),\n",
              " <a list of 80 Patch objects>)"
            ]
          },
          "metadata": {
            "tags": []
          },
          "execution_count": 121
        },
        {
          "output_type": "display_data",
          "data": {
            "image/png": "[encoded data removed]",
            "text/plain": [
              "<Figure size 432x288 with 1 Axes>"
            ]
          },
          "metadata": {
            "tags": [],
            "needs_background": "light"
          }
        }
      ]
    },
    {
      "cell_type": "code",
      "metadata": {
        "colab": {
          "base_uri": "https://localhost:8080/"
        },
        "id": "U5NoYGOsX3q8",
        "outputId": "5c9fcd61-a5d9-4837-c908-2d5173b7e9ec"
      },
      "source": [
        "three_sd = pop[(pop < MEAN+3*SD)&(pop > MEAN-3*SD)]\r\n",
        "len(three_sd) / len(pop)"
      ],
      "execution_count": 96,
      "outputs": [
        {
          "output_type": "execute_result",
          "data": {
            "text/plain": [
              "0.997301"
            ]
          },
          "metadata": {
            "tags": []
          },
          "execution_count": 96
        }
      ]
    },
    {
      "cell_type": "code",
      "metadata": {
        "colab": {
          "base_uri": "https://localhost:8080/",
          "height": 686
        },
        "id": "9_8pRkJMaV34",
        "outputId": "afa9d1e3-6d49-49f3-9273-015e5ae34c36"
      },
      "source": [
        "plt.hist(pop, range=[40,160], bins=80)\r\n",
        "plt.hist(three_sd, range=[40,160], bins=80)"
      ],
      "execution_count": 122,
      "outputs": [
        {
          "output_type": "execute_result",
          "data": {
            "text/plain": [
              "(array([    0.,     0.,     0.,     0.,     0.,     0.,     0.,     0.,\n",
              "            0.,     0.,   496.,   704.,   902.,  1249.,  1534.,  1935.,\n",
              "         2526.,  3159.,  4080.,  4791.,  5976.,  7082.,  8693., 10226.,\n",
              "        11989., 13972., 15931., 17977., 20625., 22870., 25400., 27659.,\n",
              "        30164., 32471., 34486., 36038., 37356., 38661., 39799., 40016.,\n",
              "        39773., 39557., 38575., 37561., 36035., 34002., 31991., 30359.,\n",
              "        27686., 25286., 22971., 20571., 18365., 15794., 13898., 12194.,\n",
              "        10365.,  8754.,  7063.,  6017.,  4942.,  4061.,  3182.,  2475.,\n",
              "         1984.,  1621.,  1225.,   979.,   690.,   558.,     0.,     0.,\n",
              "            0.,     0.,     0.,     0.,     0.,     0.,     0.,     0.]),\n",
              " array([ 40. ,  41.5,  43. ,  44.5,  46. ,  47.5,  49. ,  50.5,  52. ,\n",
              "         53.5,  55. ,  56.5,  58. ,  59.5,  61. ,  62.5,  64. ,  65.5,\n",
              "         67. ,  68.5,  70. ,  71.5,  73. ,  74.5,  76. ,  77.5,  79. ,\n",
              "         80.5,  82. ,  83.5,  85. ,  86.5,  88. ,  89.5,  91. ,  92.5,\n",
              "         94. ,  95.5,  97. ,  98.5, 100. , 101.5, 103. , 104.5, 106. ,\n",
              "        107.5, 109. , 110.5, 112. , 113.5, 115. , 116.5, 118. , 119.5,\n",
              "        121. , 122.5, 124. , 125.5, 127. , 128.5, 130. , 131.5, 133. ,\n",
              "        134.5, 136. , 137.5, 139. , 140.5, 142. , 143.5, 145. , 146.5,\n",
              "        148. , 149.5, 151. , 152.5, 154. , 155.5, 157. , 158.5, 160. ]),\n",
              " <a list of 80 Patch objects>)"
            ]
          },
          "metadata": {
            "tags": []
          },
          "execution_count": 122
        },
        {
          "output_type": "display_data",
          "data": {
            "image/png": "[encoded data removed]",
            "text/plain": [
              "<Figure size 432x288 with 1 Axes>"
            ]
          },
          "metadata": {
            "tags": [],
            "needs_background": "light"
          }
        }
      ]
    },
    {
      "cell_type": "markdown",
      "metadata": {
        "id": "hRU4pr3ZX_-j"
      },
      "source": [
        "# Z score"
      ]
    },
    {
      "cell_type": "code",
      "metadata": {
        "colab": {
          "base_uri": "https://localhost:8080/",
          "height": 560
        },
        "id": "iNmaNXM2YCK4",
        "outputId": "f7ef3897-4a9b-4ff9-ab5d-ae44a6056cdf"
      },
      "source": [
        "pop -= pop.mean()\r\n",
        "pop /= pop.std()\r\n",
        "plt.hist(pop, bins=30)"
      ],
      "execution_count": 97,
      "outputs": [
        {
          "output_type": "execute_result",
          "data": {
            "text/plain": [
              "(array([9.00000e+00, 2.40000e+01, 8.50000e+01, 2.86000e+02, 7.90000e+02,\n",
              "        2.13300e+03, 5.13100e+03, 1.10700e+04, 2.13840e+04, 3.75770e+04,\n",
              "        5.86540e+04, 8.35750e+04, 1.07728e+05, 1.23858e+05, 1.28815e+05,\n",
              "        1.20279e+05, 1.01429e+05, 7.70250e+04, 5.26560e+04, 3.31290e+04,\n",
              "        1.82190e+04, 9.16800e+03, 4.31400e+03, 1.72800e+03, 6.39000e+02,\n",
              "        2.20000e+02, 6.40000e+01, 1.00000e+01, 0.00000e+00, 1.00000e+00]),\n",
              " array([-4.65209442, -4.32841602, -4.00473762, -3.68105922, -3.35738082,\n",
              "        -3.03370241, -2.71002401, -2.38634561, -2.06266721, -1.73898881,\n",
              "        -1.4153104 , -1.091632  , -0.7679536 , -0.4442752 , -0.1205968 ,\n",
              "         0.2030816 ,  0.52676001,  0.85043841,  1.17411681,  1.49779521,\n",
              "         1.82147361,  2.14515202,  2.46883042,  2.79250882,  3.11618722,\n",
              "         3.43986562,  3.76354403,  4.08722243,  4.41090083,  4.73457923,\n",
              "         5.05825763]),\n",
              " <a list of 30 Patch objects>)"
            ]
          },
          "metadata": {
            "tags": []
          },
          "execution_count": 97
        },
        {
          "output_type": "display_data",
          "data": {
            "image/png": "[encoded data removed]",
            "text/plain": [
              "<Figure size 432x288 with 1 Axes>"
            ]
          },
          "metadata": {
            "tags": [],
            "needs_background": "light"
          }
        }
      ]
    },
    {
      "cell_type": "code",
      "metadata": {
        "colab": {
          "base_uri": "https://localhost:8080/"
        },
        "id": "5yE1doMiYRZt",
        "outputId": "cf42a32e-cc63-4a48-9df7-a823ddc2c759"
      },
      "source": [
        "sum((pop < 1)&(pop > -1)) / len(pop)"
      ],
      "execution_count": 98,
      "outputs": [
        {
          "output_type": "execute_result",
          "data": {
            "text/plain": [
              "0.683099"
            ]
          },
          "metadata": {
            "tags": []
          },
          "execution_count": 98
        }
      ]
    },
    {
      "cell_type": "code",
      "metadata": {
        "colab": {
          "base_uri": "https://localhost:8080/"
        },
        "id": "g12uMFdvYH2V",
        "outputId": "1f0e93ed-c29c-4b70-9be8-8b752b26a133"
      },
      "source": [
        "sum((pop < 2)&(pop > -2)) / len(pop)"
      ],
      "execution_count": 99,
      "outputs": [
        {
          "output_type": "execute_result",
          "data": {
            "text/plain": [
              "0.954317"
            ]
          },
          "metadata": {
            "tags": []
          },
          "execution_count": 99
        }
      ]
    },
    {
      "cell_type": "code",
      "metadata": {
        "colab": {
          "base_uri": "https://localhost:8080/"
        },
        "id": "uAJWmOpCYTZQ",
        "outputId": "68467eaa-624d-4798-82d5-b2f8ccdb2458"
      },
      "source": [
        "sum((pop < 3)&(pop > -3)) / len(pop)"
      ],
      "execution_count": 100,
      "outputs": [
        {
          "output_type": "execute_result",
          "data": {
            "text/plain": [
              "0.997314"
            ]
          },
          "metadata": {
            "tags": []
          },
          "execution_count": 100
        }
      ]
    },
    {
      "cell_type": "markdown",
      "metadata": {
        "id": "sXFYR43Yaswo"
      },
      "source": [
        "# Confidence Interval"
      ]
    },
    {
      "cell_type": "code",
      "metadata": {
        "id": "bHb9J_4hayjE"
      },
      "source": [
        ""
      ],
      "execution_count": null,
      "outputs": []
    },
    {
      "cell_type": "markdown",
      "metadata": {
        "id": "PbB5uds2FIec"
      },
      "source": [
        "#T Test\n",
        "- ค่า t คือค่ามาตรฐาน\n",
        "- เหมาะสำหรับกลุ่มตัวอย่างขนาดเล็ก (<30) เพื่ออนุมานสถิติเกี่ยวกับประชากร\n",
        "- ทดสอบหลายแบบ\n",
        "    - one sample\n",
        "    - paired\n",
        "    - independent\n"
      ]
    },
    {
      "cell_type": "markdown",
      "metadata": {
        "id": "wEQNkb4gWyWq"
      },
      "source": [
        "# สร้างสถิติ T โดยการ simulation"
      ]
    },
    {
      "cell_type": "code",
      "metadata": {
        "colab": {
          "base_uri": "https://localhost:8080/",
          "height": 391
        },
        "id": "ytFipx_7Xsdo",
        "outputId": "6a6eb8a7-4f15-4c33-8dc8-093c20e79460"
      },
      "source": [
        "# https://www.youtube.com/watch?v=rePsvdAxwX8\r\n",
        "\r\n",
        "MEAN = 100\r\n",
        "SD = 15\r\n",
        "pop = np.random.normal(MEAN, SD, size=100_000)\r\n",
        "plt.hist(pop)"
      ],
      "execution_count": 101,
      "outputs": [
        {
          "output_type": "execute_result",
          "data": {
            "text/plain": [
              "(array([3.7000e+01, 7.1300e+02, 5.0020e+03, 1.8439e+04, 3.2528e+04,\n",
              "        2.8193e+04, 1.2281e+04, 2.5600e+03, 2.3900e+02, 8.0000e+00]),\n",
              " array([ 37.07868028,  50.17663112,  63.27458196,  76.3725328 ,\n",
              "         89.47048364, 102.56843448, 115.66638532, 128.76433615,\n",
              "        141.86228699, 154.96023783, 168.05818867]),\n",
              " <a list of 10 Patch objects>)"
            ]
          },
          "metadata": {
            "tags": []
          },
          "execution_count": 101
        },
        {
          "output_type": "display_data",
          "data": {
            "image/png": "[encoded data removed]",
            "text/plain": [
              "<Figure size 432x288 with 1 Axes>"
            ]
          },
          "metadata": {
            "tags": [],
            "needs_background": "light"
          }
        }
      ]
    },
    {
      "cell_type": "code",
      "metadata": {
        "colab": {
          "base_uri": "https://localhost:8080/"
        },
        "id": "CR48x8W3p5ch",
        "outputId": "a77485d0-b064-439d-ca33-e687cb874cc4"
      },
      "source": [
        "from math import sqrt\r\n",
        "from random import randrange\r\n",
        "\r\n",
        "x = [pop[randrange(len(pop))], pop[randrange(len(pop))]] # sample size = 2\r\n",
        "x_ = (x[0] + x[1]) / 2\r\n",
        "s2 = (x[0] - x_) ** 2 + (x[1] - x_) ** 2\r\n",
        "s = sqrt(s2)                                    # sample standard deviation\r\n",
        "t = (x_ - MEAN) / (s/sqrt(2))\r\n",
        "\r\n",
        "print(x)\r\n",
        "print(t)"
      ],
      "execution_count": 102,
      "outputs": [
        {
          "output_type": "stream",
          "text": [
            "[111.87914033886581, 123.53823621897394]\n",
            "3.0377464017828544\n"
          ],
          "name": "stdout"
        }
      ]
    },
    {
      "cell_type": "code",
      "metadata": {
        "colab": {
          "base_uri": "https://localhost:8080/"
        },
        "id": "LbmQeN0-Ri0N",
        "outputId": "7a3ed1c1-5762-4bef-fe5f-922a3b2d153c"
      },
      "source": [
        "a = []\r\n",
        "for i in range(1_000_000):\r\n",
        "  x = [pop[randrange(len(pop))], pop[randrange(len(pop))]]\r\n",
        "  x_ = (x[0] + x[1]) / 2\r\n",
        "  s2 = (x[0] - x_) ** 2 + (x[1] - x_) ** 2\r\n",
        "  s = sqrt(s2)\r\n",
        "  if (s == 0): continue\r\n",
        "  t = (x_ - MEAN) / (s/sqrt(2))\r\n",
        "  a.append(t)\r\n",
        "\r\n",
        "a = np.asarray(a)\r\n",
        "\r\n",
        "print(a.shape)\r\n",
        "print(a.mean(), a.std())"
      ],
      "execution_count": 103,
      "outputs": [
        {
          "output_type": "stream",
          "text": [
            "(999991,)\n",
            "-10.46566827922965 8718.070727640401\n"
          ],
          "name": "stdout"
        }
      ]
    },
    {
      "cell_type": "code",
      "metadata": {
        "colab": {
          "base_uri": "https://localhost:8080/",
          "height": 436
        },
        "id": "d3vQmYU1qayn",
        "outputId": "2a9cbc0d-3449-4993-83a7-f24e4a2df071"
      },
      "source": [
        "plt.hist(a)"
      ],
      "execution_count": 104,
      "outputs": [
        {
          "output_type": "execute_result",
          "data": {
            "text/plain": [
              "(array([1.00000e+00, 0.00000e+00, 0.00000e+00, 0.00000e+00, 0.00000e+00,\n",
              "        0.00000e+00, 0.00000e+00, 0.00000e+00, 1.00000e+00, 9.99989e+05]),\n",
              " array([-8631335.40889918, -7752496.74964228, -6873658.09038538,\n",
              "        -5994819.43112848, -5115980.77187159, -4237142.11261469,\n",
              "        -3358303.45335779, -2479464.79410089, -1600626.13484399,\n",
              "         -721787.47558709,   157051.18366981]),\n",
              " <a list of 10 Patch objects>)"
            ]
          },
          "metadata": {
            "tags": []
          },
          "execution_count": 104
        },
        {
          "output_type": "display_data",
          "data": {
            "image/png": "[encoded data removed]",
            "text/plain": [
              "<Figure size 432x288 with 1 Axes>"
            ]
          },
          "metadata": {
            "tags": [],
            "needs_background": "light"
          }
        }
      ]
    },
    {
      "cell_type": "code",
      "metadata": {
        "colab": {
          "base_uri": "https://localhost:8080/",
          "height": 644
        },
        "id": "Qhj74yNRqcqp",
        "outputId": "694eb25d-9b49-4992-a4ba-0da188c061a2"
      },
      "source": [
        "plt.hist(a[(a > -10) & (a < 10)], bins=40)"
      ],
      "execution_count": 105,
      "outputs": [
        {
          "output_type": "execute_result",
          "data": {
            "text/plain": [
              "(array([  1681.,   1795.,   2033.,   2291.,   2638.,   2964.,   3371.,\n",
              "          3979.,   4821.,   5457.,   6733.,   8289.,  10738.,  13914.,\n",
              "         18799.,  26621.,  39610.,  62094., 102224., 147420., 147784.,\n",
              "        102566.,  62622.,  39774.,  26377.,  18704.,  14059.,  10586.,\n",
              "          8381.,   6817.,   5748.,   4732.,   3890.,   3373.,   2957.,\n",
              "          2564.,   2286.,   2077.,   1884.,   1679.]),\n",
              " array([-9.99976736e+00, -9.49977795e+00, -8.99978854e+00, -8.49979913e+00,\n",
              "        -7.99980972e+00, -7.49982031e+00, -6.99983090e+00, -6.49984149e+00,\n",
              "        -5.99985208e+00, -5.49986267e+00, -4.99987326e+00, -4.49988385e+00,\n",
              "        -3.99989444e+00, -3.49990503e+00, -2.99991562e+00, -2.49992621e+00,\n",
              "        -1.99993679e+00, -1.49994738e+00, -9.99957974e-01, -4.99968564e-01,\n",
              "         2.08467377e-05,  5.00010257e-01,  9.99999668e-01,  1.49998908e+00,\n",
              "         1.99997849e+00,  2.49996790e+00,  2.99995731e+00,  3.49994672e+00,\n",
              "         3.99993613e+00,  4.49992554e+00,  4.99991495e+00,  5.49990436e+00,\n",
              "         5.99989377e+00,  6.49988318e+00,  6.99987259e+00,  7.49986200e+00,\n",
              "         7.99985141e+00,  8.49984082e+00,  8.99983023e+00,  9.49981964e+00,\n",
              "         9.99980905e+00]),\n",
              " <a list of 40 Patch objects>)"
            ]
          },
          "metadata": {
            "tags": []
          },
          "execution_count": 105
        },
        {
          "output_type": "display_data",
          "data": {
            "image/png": "[encoded data removed]",
            "text/plain": [
              "<Figure size 432x288 with 1 Axes>"
            ]
          },
          "metadata": {
            "tags": [],
            "needs_background": "light"
          }
        }
      ]
    },
    {
      "cell_type": "markdown",
      "metadata": {
        "id": "7UeIuSo1przN"
      },
      "source": [
        "# เปรียบเทียบกับค่าจาก library"
      ]
    },
    {
      "cell_type": "code",
      "metadata": {
        "id": "SHh0e2x3pqMn"
      },
      "source": [
        "from scipy.stats import t as t_dist"
      ],
      "execution_count": 106,
      "outputs": []
    },
    {
      "cell_type": "code",
      "metadata": {
        "colab": {
          "base_uri": "https://localhost:8080/"
        },
        "id": "FFCOGBJ8VppS",
        "outputId": "a62c993b-cc0c-4dc3-bc1a-fda7e3a07e68"
      },
      "source": [
        "t_dist.cdf(1, 1)"
      ],
      "execution_count": 107,
      "outputs": [
        {
          "output_type": "execute_result",
          "data": {
            "text/plain": [
              "0.7500000000000002"
            ]
          },
          "metadata": {
            "tags": []
          },
          "execution_count": 107
        }
      ]
    },
    {
      "cell_type": "code",
      "metadata": {
        "colab": {
          "base_uri": "https://localhost:8080/"
        },
        "id": "icG37-QKUwpm",
        "outputId": "d098d86d-1880-43be-da59-3bc07926c7af"
      },
      "source": [
        "sum(a<1) / len(a)"
      ],
      "execution_count": 108,
      "outputs": [
        {
          "output_type": "execute_result",
          "data": {
            "text/plain": [
              "0.7497237475137276"
            ]
          },
          "metadata": {
            "tags": []
          },
          "execution_count": 108
        }
      ]
    },
    {
      "cell_type": "code",
      "metadata": {
        "colab": {
          "base_uri": "https://localhost:8080/"
        },
        "id": "kr5s0NvlWNf-",
        "outputId": "4e8d4792-ea99-408a-d06d-4fc3aa57b5e0"
      },
      "source": [
        "t_dist.cdf(2, 1)"
      ],
      "execution_count": 109,
      "outputs": [
        {
          "output_type": "execute_result",
          "data": {
            "text/plain": [
              "0.8524163823495667"
            ]
          },
          "metadata": {
            "tags": []
          },
          "execution_count": 109
        }
      ]
    },
    {
      "cell_type": "code",
      "metadata": {
        "colab": {
          "base_uri": "https://localhost:8080/"
        },
        "id": "YrMULYLyzalL",
        "outputId": "56a419e8-1cb1-4cde-fdc1-721168d5d237"
      },
      "source": [
        "sum(a<2) / len(a)"
      ],
      "execution_count": 110,
      "outputs": [
        {
          "output_type": "execute_result",
          "data": {
            "text/plain": [
              "0.8521206690860218"
            ]
          },
          "metadata": {
            "tags": []
          },
          "execution_count": 110
        }
      ]
    },
    {
      "cell_type": "markdown",
      "metadata": {
        "id": "JgnbQxSNYdlb"
      },
      "source": [
        "# เปรียบเทียบค่า t จากการ simulation และค่าจาก library"
      ]
    },
    {
      "cell_type": "code",
      "metadata": {
        "id": "3SBH0dtbXU3b"
      },
      "source": [
        "from math import sqrt\r\n",
        "\r\n",
        "def f(pop, sample_size):\r\n",
        "  a = []\r\n",
        "  for i in range(1_000_000):\r\n",
        "    x = np.random.choice(pop, sample_size)\r\n",
        "    s2 = sum((x - x.mean()) ** 2) / (sample_size - 1)\r\n",
        "    if s2 == 0: continue\r\n",
        "    a.append((x.mean() - pop.mean())/(sqrt(s2)/sqrt(sample_size)))\r\n",
        "  return np.asarray(a)"
      ],
      "execution_count": 111,
      "outputs": []
    },
    {
      "cell_type": "code",
      "metadata": {
        "colab": {
          "base_uri": "https://localhost:8080/",
          "height": 388
        },
        "id": "G9yB1OzfahUd",
        "outputId": "1e40d7c7-1497-4720-d669-0f165964c0cb"
      },
      "source": [
        "a = f(pop, 2)\r\n",
        "sum(a < 1) / len(a)"
      ],
      "execution_count": 112,
      "outputs": [
        {
          "output_type": "error",
          "ename": "KeyboardInterrupt",
          "evalue": "ignored",
          "traceback": [
            "\u001b[0;31m---------------------------------------------------------------------------\u001b[0m",
            "\u001b[0;31mKeyboardInterrupt\u001b[0m                         Traceback (most recent call last)",
            "\u001b[0;32m<ipython-input-112-4826c008b7db>\u001b[0m in \u001b[0;36m<module>\u001b[0;34m()\u001b[0m\n\u001b[0;32m----> 1\u001b[0;31m \u001b[0ma\u001b[0m \u001b[0;34m=\u001b[0m \u001b[0mf\u001b[0m\u001b[0;34m(\u001b[0m\u001b[0mpop\u001b[0m\u001b[0;34m,\u001b[0m \u001b[0;36m2\u001b[0m\u001b[0;34m)\u001b[0m\u001b[0;34m\u001b[0m\u001b[0;34m\u001b[0m\u001b[0m\n\u001b[0m\u001b[1;32m      2\u001b[0m \u001b[0msum\u001b[0m\u001b[0;34m(\u001b[0m\u001b[0ma\u001b[0m \u001b[0;34m<\u001b[0m \u001b[0;36m1\u001b[0m\u001b[0;34m)\u001b[0m \u001b[0;34m/\u001b[0m \u001b[0mlen\u001b[0m\u001b[0;34m(\u001b[0m\u001b[0ma\u001b[0m\u001b[0;34m)\u001b[0m\u001b[0;34m\u001b[0m\u001b[0;34m\u001b[0m\u001b[0m\n",
            "\u001b[0;32m<ipython-input-111-4917d41f658e>\u001b[0m in \u001b[0;36mf\u001b[0;34m(pop, sample_size)\u001b[0m\n\u001b[1;32m      7\u001b[0m     \u001b[0ms2\u001b[0m \u001b[0;34m=\u001b[0m \u001b[0msum\u001b[0m\u001b[0;34m(\u001b[0m\u001b[0;34m(\u001b[0m\u001b[0mx\u001b[0m \u001b[0;34m-\u001b[0m \u001b[0mx\u001b[0m\u001b[0;34m.\u001b[0m\u001b[0mmean\u001b[0m\u001b[0;34m(\u001b[0m\u001b[0;34m)\u001b[0m\u001b[0;34m)\u001b[0m \u001b[0;34m**\u001b[0m \u001b[0;36m2\u001b[0m\u001b[0;34m)\u001b[0m \u001b[0;34m/\u001b[0m \u001b[0;34m(\u001b[0m\u001b[0msample_size\u001b[0m \u001b[0;34m-\u001b[0m \u001b[0;36m1\u001b[0m\u001b[0;34m)\u001b[0m\u001b[0;34m\u001b[0m\u001b[0;34m\u001b[0m\u001b[0m\n\u001b[1;32m      8\u001b[0m     \u001b[0;32mif\u001b[0m \u001b[0ms2\u001b[0m \u001b[0;34m==\u001b[0m \u001b[0;36m0\u001b[0m\u001b[0;34m:\u001b[0m \u001b[0;32mcontinue\u001b[0m\u001b[0;34m\u001b[0m\u001b[0;34m\u001b[0m\u001b[0m\n\u001b[0;32m----> 9\u001b[0;31m     \u001b[0ma\u001b[0m\u001b[0;34m.\u001b[0m\u001b[0mappend\u001b[0m\u001b[0;34m(\u001b[0m\u001b[0;34m(\u001b[0m\u001b[0mx\u001b[0m\u001b[0;34m.\u001b[0m\u001b[0mmean\u001b[0m\u001b[0;34m(\u001b[0m\u001b[0;34m)\u001b[0m \u001b[0;34m-\u001b[0m \u001b[0mpop\u001b[0m\u001b[0;34m.\u001b[0m\u001b[0mmean\u001b[0m\u001b[0;34m(\u001b[0m\u001b[0;34m)\u001b[0m\u001b[0;34m)\u001b[0m\u001b[0;34m/\u001b[0m\u001b[0;34m(\u001b[0m\u001b[0msqrt\u001b[0m\u001b[0;34m(\u001b[0m\u001b[0ms2\u001b[0m\u001b[0;34m)\u001b[0m\u001b[0;34m/\u001b[0m\u001b[0msqrt\u001b[0m\u001b[0;34m(\u001b[0m\u001b[0msample_size\u001b[0m\u001b[0;34m)\u001b[0m\u001b[0;34m)\u001b[0m\u001b[0;34m)\u001b[0m\u001b[0;34m\u001b[0m\u001b[0;34m\u001b[0m\u001b[0m\n\u001b[0m\u001b[1;32m     10\u001b[0m   \u001b[0;32mreturn\u001b[0m \u001b[0mnp\u001b[0m\u001b[0;34m.\u001b[0m\u001b[0masarray\u001b[0m\u001b[0;34m(\u001b[0m\u001b[0ma\u001b[0m\u001b[0;34m)\u001b[0m\u001b[0;34m\u001b[0m\u001b[0;34m\u001b[0m\u001b[0m\n",
            "\u001b[0;32m/usr/local/lib/python3.6/dist-packages/numpy/core/_methods.py\u001b[0m in \u001b[0;36m_mean\u001b[0;34m(a, axis, dtype, out, keepdims)\u001b[0m\n\u001b[1;32m    158\u001b[0m             \u001b[0mis_float16_result\u001b[0m \u001b[0;34m=\u001b[0m \u001b[0;32mTrue\u001b[0m\u001b[0;34m\u001b[0m\u001b[0;34m\u001b[0m\u001b[0m\n\u001b[1;32m    159\u001b[0m \u001b[0;34m\u001b[0m\u001b[0m\n\u001b[0;32m--> 160\u001b[0;31m     \u001b[0mret\u001b[0m \u001b[0;34m=\u001b[0m \u001b[0mumr_sum\u001b[0m\u001b[0;34m(\u001b[0m\u001b[0marr\u001b[0m\u001b[0;34m,\u001b[0m \u001b[0maxis\u001b[0m\u001b[0;34m,\u001b[0m \u001b[0mdtype\u001b[0m\u001b[0;34m,\u001b[0m \u001b[0mout\u001b[0m\u001b[0;34m,\u001b[0m \u001b[0mkeepdims\u001b[0m\u001b[0;34m)\u001b[0m\u001b[0;34m\u001b[0m\u001b[0;34m\u001b[0m\u001b[0m\n\u001b[0m\u001b[1;32m    161\u001b[0m     \u001b[0;32mif\u001b[0m \u001b[0misinstance\u001b[0m\u001b[0;34m(\u001b[0m\u001b[0mret\u001b[0m\u001b[0;34m,\u001b[0m \u001b[0mmu\u001b[0m\u001b[0;34m.\u001b[0m\u001b[0mndarray\u001b[0m\u001b[0;34m)\u001b[0m\u001b[0;34m:\u001b[0m\u001b[0;34m\u001b[0m\u001b[0;34m\u001b[0m\u001b[0m\n\u001b[1;32m    162\u001b[0m         ret = um.true_divide(\n",
            "\u001b[0;31mKeyboardInterrupt\u001b[0m: "
          ]
        }
      ]
    },
    {
      "cell_type": "code",
      "metadata": {
        "id": "Tl1h7Sr7ZZPK"
      },
      "source": [
        "t_dist.cdf(1, 1)"
      ],
      "execution_count": null,
      "outputs": []
    },
    {
      "cell_type": "code",
      "metadata": {
        "id": "lqqe2ZAfmonA"
      },
      "source": [
        "x = [2, 5, 10, 15, 20, 25, 30, 35]\r\n",
        "y1 = []\r\n",
        "for sample_size in x:\r\n",
        "  a = f(pop, sample_size)\r\n",
        "  y1.append(sum(a < 1) / len(a))\r\n",
        "  print(sample_size, end=' ')\r\n",
        "plt.plot(x, y1)  \r\n",
        "y2 = [t_dist.cdf(1, (s-1)) for s in x]\r\n",
        "plt.plot(x, y2)  "
      ],
      "execution_count": null,
      "outputs": []
    },
    {
      "cell_type": "code",
      "metadata": {
        "id": "U6fVDP8ELrHE"
      },
      "source": [
        "dy = [abs(y1[i] - y2[i]) for i in range(len(x))]\r\n",
        "plt.plot(x, dy)  "
      ],
      "execution_count": null,
      "outputs": []
    },
    {
      "cell_type": "markdown",
      "metadata": {
        "id": "_R1_JUIN0yqp"
      },
      "source": [
        "data from https://statisticsbyjim.com/hypothesis-testing/confidence-intervals-compare-means/"
      ]
    },
    {
      "cell_type": "code",
      "metadata": {
        "id": "bVhNgNW-0y5A"
      },
      "source": [
        ""
      ],
      "execution_count": null,
      "outputs": []
    },
    {
      "cell_type": "markdown",
      "metadata": {
        "id": "aLA4v_tDc5J8"
      },
      "source": [
        "#Find confidence interval\n",
        "$\\mu_1-\\mu_2=(\\bar{x_1}-\\bar{x_2})\\pm t\\times standard error $\n",
        "\n",
        "$standard error=\\sqrt{\\frac{s^2_p}{n_1}+\\frac{s_p^2}{n_2}} $\n",
        "\n",
        "$s_p$ is pooled variance\n",
        "\n",
        "$s_p=\\frac{df_1\\times s^2_1 + df_2\\times s^2_2}{df_1 + df_2}$\n",
        "\n",
        "You can be ...% confident that \n",
        "\n",
        "the difference between two population means (μ1 - μ2) \n",
        "\n",
        "lies between ... and .... \n",
        "\n",
        "https://www.socscistatistics.com/confidenceinterval/default4.aspx"
      ]
    },
    {
      "cell_type": "code",
      "metadata": {
        "id": "9U9shc3Lcxrc"
      },
      "source": [
        "def conf_interval(conf_level, mean1, mean2, s1, s2, n1, n2):\n",
        "  from scipy.stats import t\n",
        "  df1, df2 = n1 - 1, n2 - 1\n",
        "  pv = (df1*s1*s1+df2*s2*s2) / (df1+df2)\n",
        "  se = (pv/n1 + pv/n2)**0.5\n",
        "  tv = t.ppf(1-(1-conf_level)/2, df=df1+df2)\n",
        "  dm = abs(mean1-mean2)\n",
        "  dt = tv*se\n",
        "  return dm-dt, dm+dt\n"
      ],
      "execution_count": null,
      "outputs": []
    },
    {
      "cell_type": "code",
      "metadata": {
        "id": "_sfcyCudhMNk"
      },
      "source": [
        "conf_interval(1, 0, 1, 1, 1, 10, 10)"
      ],
      "execution_count": null,
      "outputs": []
    },
    {
      "cell_type": "code",
      "metadata": {
        "id": "Nda55g4Bi6dg"
      },
      "source": [
        "conf_interval(0.95, 10, 2, 7, 5, 9, 15)"
      ],
      "execution_count": null,
      "outputs": []
    },
    {
      "cell_type": "markdown",
      "metadata": {
        "id": "9Jca38gWt__Z"
      },
      "source": [
        "# Find Confidence Interval from Data"
      ]
    },
    {
      "cell_type": "code",
      "metadata": {
        "id": "XgwrMC9QuKM0"
      },
      "source": [
        "def conf_interval2(conf, sam1, sam2): \n",
        "  mean1 = sam1.mean()\n",
        "  mean2 = sam2.mean()\n",
        "  s1 = sam1.std()\n",
        "  s2 = sam2.std()\n",
        "  n1 = len(sam1)\n",
        "  n2 = len(sam2)\n",
        "  return conf_interval(conf, mean1, mean2, s1, s2, n1, n2)"
      ],
      "execution_count": null,
      "outputs": []
    },
    {
      "cell_type": "code",
      "metadata": {
        "id": "2bPnkrz1uNwV"
      },
      "source": [
        "import pandas as pd"
      ],
      "execution_count": null,
      "outputs": []
    },
    {
      "cell_type": "code",
      "metadata": {
        "id": "0JxYaKtEuYEp"
      },
      "source": [
        "df = pd.read_csv('DifferenceMeans.csv')\n",
        "df.head()"
      ],
      "execution_count": null,
      "outputs": []
    },
    {
      "cell_type": "code",
      "metadata": {
        "id": "Ega97Frtui3O"
      },
      "source": [
        "conf_interval2(0.95, df['Strength A'], df['Strength B'])"
      ],
      "execution_count": null,
      "outputs": []
    },
    {
      "cell_type": "code",
      "metadata": {
        "id": "TTLKPVcwxNse"
      },
      "source": [
        "t, p = ttest_ind(df['Strength A'], df['Strength B'])\n",
        "t, p"
      ],
      "execution_count": null,
      "outputs": []
    },
    {
      "cell_type": "code",
      "metadata": {
        "id": "LADo9eqhxoaz"
      },
      "source": [
        "if p < 0.05:\n",
        "  print('there is significant difference')\n",
        "else:\n",
        "  print('there is no significant difference')"
      ],
      "execution_count": null,
      "outputs": []
    },
    {
      "cell_type": "code",
      "metadata": {
        "id": "H4JEzer5F9k4"
      },
      "source": [
        "conf_interval2(0.99, df['Strength A'], df['Strength B'])"
      ],
      "execution_count": null,
      "outputs": []
    },
    {
      "cell_type": "code",
      "metadata": {
        "id": "BUPlsBOqGCB9"
      },
      "source": [
        "t, p = ttest_ind(df['Strength A'], df['Strength B'])  # (-2.0891568131409373, 0.04344263592041909)\n",
        "if p < 0.01:\n",
        "  print('there is significant difference')\n",
        "else:\n",
        "  print('there is no significant difference')"
      ],
      "execution_count": null,
      "outputs": []
    },
    {
      "cell_type": "markdown",
      "metadata": {
        "id": "Z4rKkC7SkMWJ"
      },
      "source": [
        "#Effect of confidence level and sample size on the interval"
      ]
    },
    {
      "cell_type": "code",
      "metadata": {
        "id": "KaVt62ixk4UH"
      },
      "source": [
        "ns = [10, 15, 30, 60] \n",
        "conf = [0.8, 0.9, 0.95, 0.99]\n",
        "print('     ' + '   '.join(str(n) for n in ns))\n",
        "for c in conf:\n",
        "  \n",
        "  print(f'{c:.2f}', end=' ')\n",
        "  for n in ns:\n",
        "    r = conf_interval(c, 0, 2, 1, 1, n, n)\n",
        "    print(f'{r[1] - r[0]:.2f}', end=' ')\n",
        "  print()"
      ],
      "execution_count": null,
      "outputs": []
    },
    {
      "cell_type": "markdown",
      "metadata": {
        "id": "oNeN5lvom05b"
      },
      "source": [
        "conf level มากขึ้น ช่วงความต่างของ pop mean กว้างขึ้น \n",
        "(แต่ทำไม่กว้างแบบสุดๆ ตอบ กว้างสุดๆ ก็ต้อง 100% confident) \n",
        "\n",
        "sampling size มากขึ้น ช่วงความต่างของ pop mean แคบลง central limit theorem?"
      ]
    },
    {
      "cell_type": "markdown",
      "metadata": {
        "id": "OokOPzcvwPmS"
      },
      "source": [
        "#Experiment"
      ]
    },
    {
      "cell_type": "code",
      "metadata": {
        "id": "jq-ywpxKwTzu"
      },
      "source": [
        "mean0, mean1 = 100, 105\n",
        "sd = 10\n",
        "N = 100000\n",
        "pop0 = np.random.normal(mean0, sd, N)\n",
        "pop1 = np.random.normal(mean1, sd, N)"
      ],
      "execution_count": null,
      "outputs": []
    },
    {
      "cell_type": "code",
      "metadata": {
        "id": "9d5aStDlweEz"
      },
      "source": [
        "total_run = 10000\n",
        "count = 0\n",
        "for _ in range(total_run):\n",
        "  n = 20\n",
        "  sam0 = np.random.choice(pop0, n)\n",
        "  sam1 = np.random.choice(pop1, n)\n",
        "  interval = conf_interval2(0.99, sam0, sam1)\n",
        "  count += 1 if interval[0] <= (mean1 - mean0) <= interval[1] else 0\n",
        "f'{count/total_run:.2f}'"
      ],
      "execution_count": null,
      "outputs": []
    },
    {
      "cell_type": "code",
      "metadata": {
        "id": "J_kd2_pMG6Iw"
      },
      "source": [
        "mean0, mean1 = 100, 105\n",
        "sd = 10\n",
        "N = 100000\n",
        "pop0 = np.random.normal(mean0, sd, N)\n",
        "pop1 = np.random.normal(mean1, sd, N)\n",
        "for r in [0.80, 0.90, 0.95, 0.99]:\n",
        "  total_run = 10000\n",
        "  count = 0\n",
        "  for _ in range(total_run):\n",
        "    n = 20\n",
        "    sam0 = np.random.choice(pop0, n)\n",
        "    sam1 = np.random.choice(pop1, n)\n",
        "    t, p = ttest_ind(sam0,sam1) \n",
        "    count += 1 if p < 0.05 else 0\n",
        "  print(f'{c:.2f} {count/total_run:.2f}')"
      ],
      "execution_count": null,
      "outputs": []
    },
    {
      "cell_type": "markdown",
      "metadata": {
        "id": "0Bgp9S320gRP"
      },
      "source": [
        "# asdf"
      ]
    },
    {
      "cell_type": "code",
      "metadata": {
        "id": "ky1U6VyDne4F"
      },
      "source": [
        "mean0, mean1 = 100, 100\n",
        "sd = 10\n",
        "N = 100000\n",
        "pop0 = np.random.normal(mean0, sd, N)\n",
        "pop1 = np.random.normal(mean1, sd, N)"
      ],
      "execution_count": null,
      "outputs": []
    },
    {
      "cell_type": "code",
      "metadata": {
        "id": "ed9GJS7wnuo9"
      },
      "source": [
        "from scipy import stats\n",
        "\n",
        "def diff(d0, d1, conf=0.95):\n",
        "  t, p = stats.ttest_ind(d0, d1)   # t-score, two-tailed p-value\n",
        "  return p < 1-conf"
      ],
      "execution_count": null,
      "outputs": []
    },
    {
      "cell_type": "code",
      "metadata": {
        "id": "FgxecygTodi3"
      },
      "source": [
        "n = 10\n",
        "sam0 = np.random.choice(pop0, n)\n",
        "sam1 = np.random.choice(pop1, n)\n",
        "\n",
        "if diff(sam0, sam1):\n",
        "  print('there is significant difference')\n",
        "else:\n",
        "  print('there is no significant difference')"
      ],
      "execution_count": null,
      "outputs": []
    },
    {
      "cell_type": "code",
      "metadata": {
        "id": "K2y1cahzIQ_5"
      },
      "source": [
        "plt.figure(figsize=(5,10))\n",
        "plt.subplot(2,1,1)\n",
        "plt.hist(pop0, bins=10, alpha=0.5)\n",
        "plt.hist(pop1, bins=10, alpha=0.5)\n",
        "plt.subplot(2,1,2)\n",
        "plt.hist(sam0, bins=10, alpha=0.5)\n",
        "plt.hist(sam1, bins=10, alpha=0.5)"
      ],
      "execution_count": null,
      "outputs": []
    },
    {
      "cell_type": "markdown",
      "metadata": {
        "id": "-X8iQKdV3qDi"
      },
      "source": [
        "#ทดสอบประสิทธิภาพของ T-Test\n",
        "- ทดสอบ 10000 ครั้ง \n",
        "- แสดงโอกาสที่สรุปถูกต้อง"
      ]
    },
    {
      "cell_type": "code",
      "metadata": {
        "id": "YoC960oVJB-l"
      },
      "source": [
        "def f(mean1, mean2, sd, conf, n=10):\n",
        "  N = 1000000\n",
        "  pop0 = np.random.normal(mean1, sd, N)\n",
        "  pop1 = np.random.normal(mean2, sd, N)\n",
        "\n",
        "  diff = 0\n",
        "  total_run = 10000\n",
        "  for _ in range(total_run):\n",
        "    sam0 = np.random.choice(pop0, n)\n",
        "    sam1 = np.random.choice(pop1, n)\n",
        "    t, p = stats.ttest_ind(sam0, sam1)\n",
        "    diff += 1 if p < 1-conf else 0\n",
        "  return diff/total_run"
      ],
      "execution_count": null,
      "outputs": []
    },
    {
      "cell_type": "markdown",
      "metadata": {
        "id": "JtJeBVAAjzYR"
      },
      "source": [
        "##n=10"
      ]
    },
    {
      "cell_type": "code",
      "metadata": {
        "id": "1XmcjGo6Nl5p"
      },
      "source": [
        ""
      ],
      "execution_count": null,
      "outputs": []
    },
    {
      "cell_type": "code",
      "metadata": {
        "id": "YE0TMVlRQSJS"
      },
      "source": [
        "row = [0.10, 0.90, 0.95, 0.99]\n",
        "col = [100, 110, 120, 130]\n",
        "\n",
        "print('     ' + '    '.join(str(i) for i in col))\n",
        "for r in row:\n",
        "  print(f'{r:.2f} ' + ' '.join([f'{f(100, c, 10, r, 10):.4f}' for c in col]))"
      ],
      "execution_count": null,
      "outputs": []
    },
    {
      "cell_type": "markdown",
      "metadata": {
        "id": "q3x10aHlj2k8"
      },
      "source": [
        "##n=30"
      ]
    },
    {
      "cell_type": "code",
      "metadata": {
        "id": "wFGraKtdITlY"
      },
      "source": [
        "row = [0.10, 0.90, 0.95, 0.99]\n",
        "col = [100, 110, 120, 130]\n",
        "\n",
        "print('     ' + '    '.join(str(i) for i in col))\n",
        "for r in row:\n",
        "  print(f'{r:.2f} ' + ' '.join([f'{f(100, c, 10, r, 30):.4f}' for c in col]))"
      ],
      "execution_count": null,
      "outputs": []
    },
    {
      "cell_type": "code",
      "metadata": {
        "id": "R20KkAUEV1Qx"
      },
      "source": [
        "plt.figure(figsize=(6, 10))\n",
        "for i, mean0 in enumerate([10, 20, 30, 40, 50], 1):\n",
        "  N = 1000000\n",
        "  mean1 = 0\n",
        "  pop0 = np.random.normal(mean0, sd, N)\n",
        "  pop1 = np.random.normal(mean1, sd, N)\n",
        "  sd = 10\n",
        "\n",
        "  n = 30\n",
        "\n",
        "  diff = 0\n",
        "  total_run = 10000\n",
        "  ts = []\n",
        "  ps = []\n",
        "  for _ in range(total_run):\n",
        "    sam0 = np.random.choice(pop0, n)\n",
        "    sam1 = np.random.choice(pop1, n)\n",
        "    t, p = stats.ttest_ind(sam0, sam1)\n",
        "    ts.append(t)\n",
        "    ps.append(p)\n",
        "\n",
        "  ts = np.array(ts)\n",
        "  ps = np.array(ps)\n",
        "  print(ts.mean(), ts.std())\n",
        "  plt.subplot(5, 2, i*2 - 1)\n",
        "  plt.hist(ts, bins=30, range=(0,30))\n",
        "  plt.subplot(5, 2, i*2)\n",
        "  plt.hist(ps, bins=30)"
      ],
      "execution_count": null,
      "outputs": []
    },
    {
      "cell_type": "markdown",
      "metadata": {
        "id": "EkJMPKjRK9FV"
      },
      "source": [
        "##n=10\n"
      ]
    },
    {
      "cell_type": "code",
      "metadata": {
        "id": "BR-ie-UoSgc_"
      },
      "source": [
        "n = 10\n",
        "df = 18\n",
        "t_scores = {0.90:1.3830, 0.95:1.8331, 0.99:2.8214}   # df=9\n",
        "t_scores = {0.90:1.3304, 0.95:1.7341, 0.99:2.5524}  # df=18\n",
        "sd = 10\n",
        "for k in t_scores:\n",
        "  dist = t_scores[k] * sd / (n**0.5)\n",
        "  col = [100+i*dist for i in range(4)]\n",
        "  print('     ' + ' '.join(f'{i:.2f}' for i in col))\n",
        "  print(f'{k:.2f} ' + ' '.join([f'{f(100, c, sd, k, n):.4f}' for c in col]))\n",
        "  print()"
      ],
      "execution_count": null,
      "outputs": []
    },
    {
      "cell_type": "markdown",
      "metadata": {
        "id": "Fj_Ir8gBP6KG"
      },
      "source": [
        "##n=30"
      ]
    },
    {
      "cell_type": "code",
      "metadata": {
        "id": "blbhMKiwkKla"
      },
      "source": [
        "n = 30\n",
        "df = 60\n",
        "t_scores = {0.90:1.3104, 0.95:1.6973, 0.99:2.4573}   # df=30\n",
        "t_scores = {0.90:1.3114, 0.95:1.6991, 0.99:2.4620}   # df=29\n",
        "t_scores = {0.90:1.296, 0.95:1.671, 0.99:2.390}   # df=60\n",
        "sd = 10\n",
        "for k in t_scores:\n",
        "  dist = t_scores[k] * sd / (n**0.5)\n",
        "  col = [100+i*dist for i in range(4)]\n",
        "  print('     ' + ' '.join(f'{i:.2f}' for i in col))\n",
        "  print(f'{k:.2f} ' + ' '.join([f'{f(100, c, sd, k, n):.4f}' for c in col]))\n",
        "  print()"
      ],
      "execution_count": null,
      "outputs": []
    },
    {
      "cell_type": "markdown",
      "metadata": {
        "id": "-6Ds2i6AkJYB"
      },
      "source": [
        ""
      ]
    },
    {
      "cell_type": "markdown",
      "metadata": {
        "id": "EFcBDUH-Lgrb"
      },
      "source": [
        "#สร้างตาราง t จาก library\n",
        "ยิ่ง conf level มากขึ้น\n",
        "conf interval จะกว้างขึ้น\n",
        "แปลว่า มั่นใจว่า pop mean ตกอยู่ในช่วงนี้"
      ]
    },
    {
      "cell_type": "code",
      "metadata": {
        "id": "ufRs5wHCLjNm"
      },
      "source": [
        "from scipy.stats import t\n",
        "\n",
        "ps = [0.25, 0.20, 0.15, 0.10, 0.05, 0.01]   # one-tailed\n",
        "header = '    '.join([f'{1-p:0.2f}' for p in ps])\n",
        "print(f'    {header}')\n",
        "for df in range(1, 31):\n",
        "  critical_values = ' '.join([f'{t.ppf(1-p, df=df):7.4f}' for p in ps])\n",
        "  print(f'{df:2d} {critical_values}')"
      ],
      "execution_count": null,
      "outputs": []
    },
    {
      "cell_type": "code",
      "metadata": {
        "id": "fyrAt3C5ZI7w"
      },
      "source": [
        "from scipy.stats import t\n",
        "\n",
        "ps = [0.25, 0.20, 0.15, 0.10, 0.05, 0.01]   # one-tailed\n",
        "ps = [i/2 for i in ps] # two-tailed\n",
        "header = '    '.join([f'{1-2*p:0.2f}' for p in ps])\n",
        "print(f'    {header}')\n",
        "for df in range(1, 31):\n",
        "  critical_values = ' '.join([f'{t.ppf(1-p, df=df):7.4f}' for p in ps])\n",
        "  print(f'{df:2d} {critical_values}')"
      ],
      "execution_count": null,
      "outputs": []
    },
    {
      "cell_type": "markdown",
      "metadata": {
        "id": "hAXfY66iaMvS"
      },
      "source": [
        "#หา confidence interval"
      ]
    },
    {
      "cell_type": "code",
      "metadata": {
        "id": "4G9Mc-baaRHh"
      },
      "source": [
        ""
      ],
      "execution_count": null,
      "outputs": []
    },
    {
      "cell_type": "markdown",
      "metadata": {
        "id": "fg3pKbeslyt_"
      },
      "source": [
        "#หาค่า t ในตาราง"
      ]
    },
    {
      "cell_type": "code",
      "metadata": {
        "id": "UrE9nbezLfno"
      },
      "source": [
        "import numpy as np\n",
        "\n",
        "mean = 123\n",
        "sd   = 45\n",
        "x = np.random.normal(mean, sd, 100000)\n",
        "y = np.random.normal(mean, sd, 100000)"
      ],
      "execution_count": null,
      "outputs": []
    },
    {
      "cell_type": "code",
      "metadata": {
        "id": "t21WI4U9l1ap"
      },
      "source": [
        "from scipy import stats\n",
        "import matplotlib.pyplot as plt\n",
        "\n",
        "df = 20   # even number\n",
        "n = int((df+2)/2)\n",
        "a = []\n",
        "for _ in range(20000):\n",
        "  x_s = np.random.choice(pop0, n)\n",
        "  y_s = np.random.choice(pop1, n)\n",
        "  t, p = stats.ttest_ind(x_s, y_s)\n",
        "  a.append(t)\n",
        "plt.hist(a)\n"
      ],
      "execution_count": null,
      "outputs": []
    },
    {
      "cell_type": "code",
      "metadata": {
        "id": "84uQgvcUmfZY"
      },
      "source": [
        "from scipy.stats import t\n",
        "\n",
        "print('std  our  diff')\n",
        "for i in [80, 90, 95, 99]:\n",
        "  a = np.asarray(a)\n",
        "  #a = np.abs(a)\n",
        "  our_t = np.percentile(a, i)\n",
        "  std_t = t.ppf(i/100, df=df)\n",
        "  print(f'{std_t:.2f} {our_t:.2f} {std_t - our_t:.2f}')"
      ],
      "execution_count": null,
      "outputs": []
    },
    {
      "cell_type": "code",
      "metadata": {
        "id": "QeWUZUsT5bQT"
      },
      "source": [
        ""
      ],
      "execution_count": null,
      "outputs": []
    }
  ]
}